{
  "nbformat": 4,
  "nbformat_minor": 0,
  "metadata": {
    "colab": {
      "name": "Project_Train_model_Titanic.ipynb",
      "provenance": [],
      "collapsed_sections": [],
      "toc_visible": true
    },
    "kernelspec": {
      "name": "python3",
      "display_name": "Python 3"
    },
    "language_info": {
      "name": "python"
    }
  },
  "cells": [
    {
      "cell_type": "code",
      "metadata": {
        "id": "EOIfV5wbyoL7"
      },
      "source": [
        "import pandas as pd\n",
        "import numpy as np"
      ],
      "execution_count": null,
      "outputs": []
    },
    {
      "cell_type": "code",
      "metadata": {
        "id": "SQPhVGA7O8w3"
      },
      "source": [
        "#Reading data using pandas and using DataFrame\n",
        "df = pd.DataFrame(pd.read_csv('/content/train (1).csv'))\n",
        "df.head()"
      ],
      "execution_count": null,
      "outputs": []
    },
    {
      "cell_type": "code",
      "metadata": {
        "id": "HPsIxK1MPO3L"
      },
      "source": [
        "# Getting shape of dataset\n",
        "df.shape"
      ],
      "execution_count": null,
      "outputs": []
    },
    {
      "cell_type": "code",
      "metadata": {
        "id": "pDfidAWSQVqh"
      },
      "source": [
        "#Calculating Null Values of DataSet\n",
        "df.isnull().sum()"
      ],
      "execution_count": null,
      "outputs": []
    },
    {
      "cell_type": "code",
      "metadata": {
        "id": "qV0gAlarQkdo"
      },
      "source": [
        "#dropping the columns having null values more than 35% of data\n",
        "\n",
        "x = df.isnull().sum()\n",
        "drop_col = x[x>(35/100 * df.shape[0])]\n",
        "drop_col"
      ],
      "execution_count": null,
      "outputs": []
    },
    {
      "cell_type": "code",
      "metadata": {
        "id": "HzZN5DdXRcQ_"
      },
      "source": [
        "drop_col.index"
      ],
      "execution_count": null,
      "outputs": []
    },
    {
      "cell_type": "code",
      "metadata": {
        "id": "7YhWsjBpTeN-"
      },
      "source": [
        "#Dropping col with the NaN values as specified\n",
        "df.drop(drop_col.index,axis = 1,inplace=True)\n",
        "df.isnull().sum()"
      ],
      "execution_count": null,
      "outputs": []
    },
    {
      "cell_type": "code",
      "metadata": {
        "id": "de1lyZg5ShGj"
      },
      "source": [
        "#filling mean values to all Nan Values <int>\n",
        "df.fillna(df.mean(),inplace=True)\n",
        "df.isnull().sum()"
      ],
      "execution_count": null,
      "outputs": []
    },
    {
      "cell_type": "code",
      "metadata": {
        "id": "LqvcJ1fmTVe7"
      },
      "source": [
        "#Embarked is string hence not have null values \n",
        "#thus having details of Embarked to know the highest frequency\n",
        "df['Embarked'].describe()"
      ],
      "execution_count": null,
      "outputs": []
    },
    {
      "cell_type": "code",
      "metadata": {
        "id": "Um-IPcs8UC_L"
      },
      "source": [
        "df['Embarked'].fillna('S',inplace = True)\n",
        "df.isnull().sum()"
      ],
      "execution_count": null,
      "outputs": []
    },
    {
      "cell_type": "code",
      "metadata": {
        "id": "FTkL11r4U_pI"
      },
      "source": [
        "#correlation\n",
        "df.corr()"
      ],
      "execution_count": null,
      "outputs": []
    },
    {
      "cell_type": "code",
      "metadata": {
        "id": "dzSn0KYbVOdI"
      },
      "source": [
        "#sibsp: No. of Siblings/Spouses Abroad\n",
        "#parch: No. of Parents/Children Abroad\n",
        "\n",
        "#Creating a new col Family size\n",
        "\n",
        "df['FamilySize'] = df['SibSp']+df['Parch']\n",
        "df.drop(['SibSp','Parch'], axis=1,inplace = True)\n",
        "df.corr()"
      ],
      "execution_count": null,
      "outputs": []
    },
    {
      "cell_type": "code",
      "metadata": {
        "id": "hQXc6JSwWcgq"
      },
      "source": [
        "#check whether a person was alone or not\n",
        "\n",
        "#sb.countplot(data = df, x = 'FamilySize')\n",
        "#df.groupby(['Alone'])['Survived'].mean()\n",
        "\n",
        "\n",
        "df['Alone'] = [0 if df['FamilySize'][i]>0\n",
        "               else 1\n",
        "               for i in df.index]"
      ],
      "execution_count": null,
      "outputs": []
    },
    {
      "cell_type": "code",
      "metadata": {
        "id": "0_ivRVZ3XjxC"
      },
      "source": [
        "df.head()"
      ],
      "execution_count": null,
      "outputs": []
    },
    {
      "cell_type": "code",
      "metadata": {
        "id": "IidemLZJifsf"
      },
      "source": [
        "#calculating mean of alone\n",
        "\n",
        "df.groupby(['Alone'])['Survived'].mean()"
      ],
      "execution_count": null,
      "outputs": []
    },
    {
      "cell_type": "code",
      "metadata": {
        "id": "6m7S15vFYQmJ"
      },
      "source": [
        "#concludes the fare of alone person\n",
        "s = df[['Alone','Fare']].corr()\n",
        "s"
      ],
      "execution_count": null,
      "outputs": []
    },
    {
      "cell_type": "code",
      "metadata": {
        "id": "hpjN8kqzYflY"
      },
      "source": [
        "# 1 for female, 0 for male\n",
        "#who have more chances of survival M/F\n",
        "\n",
        "df['Sex'] = ['Male' if df['Sex'][i] == 'male' else 'Female' for i in df.index]\n",
        "\n",
        "df.groupby(['Sex'])['Survived'].mean()"
      ],
      "execution_count": null,
      "outputs": []
    },
    {
      "cell_type": "code",
      "metadata": {
        "id": "5VrPk7AOZSnc"
      },
      "source": [
        "df.groupby(['Embarked'])['Survived'].mean()"
      ],
      "execution_count": null,
      "outputs": []
    },
    {
      "cell_type": "markdown",
      "metadata": {
        "id": "mnRpSA0iazz2"
      },
      "source": [
        "# CONCLUSIONS:\n",
        "*   Female passengers were prioritized over men.\n",
        "*   People with high class or rich people have higher survival rate than others. The hierchy might have been followed while saving the passengers.\n",
        "*   Passengers travelling with their families have higher survival rate.\n",
        "*   Passengers who borded the ship at Cherbourg, survived more in proportion than the others."
      ]
    }
  ]
}